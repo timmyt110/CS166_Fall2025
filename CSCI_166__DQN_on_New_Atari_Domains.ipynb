{
  "nbformat": 4,
  "nbformat_minor": 0,
  "metadata": {
    "colab": {
      "provenance": [],
      "gpuType": "T4",
      "include_colab_link": true
    },
    "kernelspec": {
      "name": "python3",
      "display_name": "Python 3"
    },
    "language_info": {
      "name": "python"
    },
    "accelerator": "GPU"
  },
  "cells": [
    {
      "cell_type": "markdown",
      "metadata": {
        "id": "view-in-github",
        "colab_type": "text"
      },
      "source": [
        "<a href=\"https://colab.research.google.com/github/timmyt110/CS166_Fall2025/blob/main/CSCI_166__DQN_on_New_Atari_Domains.ipynb\" target=\"_parent\"><img src=\"https://colab.research.google.com/assets/colab-badge.svg\" alt=\"Open In Colab\"/></a>"
      ]
    },
    {
      "cell_type": "markdown",
      "source": [
        "# DQN on Breakout --- Adapted from Pong Starter (09.21.2025)"
      ],
      "metadata": {
        "id": "XtOuIKifmmyk"
      }
    },
    {
      "cell_type": "code",
      "source": [
        "# Clean any prior AutoROM flavors\n",
        "!pip uninstall -y AutoROM AutoROM.accept-rom-license autorom >/dev/null 2>&1\n",
        "\n",
        "# Install the release that exposes a stable CLI\n",
        "!pip install -q \"AutoROM.accept-rom-license==0.6.1\"\n",
        "\n",
        "# Run the CLI (this variant supports these flags)\n",
        "import os, sys, subprocess, pathlib\n",
        "os.environ[\"ALE_ACCEPT_LICENSE\"] = \"YES\"\n",
        "rom_dir = pathlib.Path.home()/\".atari_roms\"\n",
        "rom_dir.mkdir(parents=True, exist_ok=True)\n",
        "\n",
        "cmd = [sys.executable, \"-m\", \"AutoROM\", \"--accept-license\", \"--install-dir\", str(rom_dir)]\n",
        "print(\"Running:\", \" \".join(cmd))\n",
        "subprocess.run(cmd, check=True)\n",
        "\n",
        "# Point ALE to the ROM directory\n",
        "os.environ[\"ALE_PY_ROM_DIR\"] = str(rom_dir)\n",
        "print(\"✅ ROMs installed to:\", rom_dir)"
      ],
      "metadata": {
        "colab": {
          "base_uri": "https://localhost:8080/"
        },
        "id": "aqL9333gml9l",
        "outputId": "bdc47a86-4606-4bd8-cdd7-dda99de240e0"
      },
      "execution_count": 2,
      "outputs": [
        {
          "output_type": "stream",
          "name": "stdout",
          "text": [
            "\u001b[?25l     \u001b[90m━━━━━━━━━━━━━━━━━━━━━━━━━━━━━━━━━━━━━━━━\u001b[0m \u001b[32m0.0/434.7 kB\u001b[0m \u001b[31m?\u001b[0m eta \u001b[36m-:--:--\u001b[0m\r\u001b[2K     \u001b[90m━━━━━━━━━━━━━━━━━━━━━━━━━━━━━━━━━━━━━━\u001b[0m \u001b[32m434.7/434.7 kB\u001b[0m \u001b[31m17.4 MB/s\u001b[0m eta \u001b[36m0:00:00\u001b[0m\n",
            "\u001b[?25h  Installing build dependencies ... \u001b[?25l\u001b[?25hdone\n",
            "  Getting requirements to build wheel ... \u001b[?25l\u001b[?25hdone\n",
            "  Preparing metadata (pyproject.toml) ... \u001b[?25l\u001b[?25hdone\n",
            "  Building wheel for AutoROM.accept-rom-license (pyproject.toml) ... \u001b[?25l\u001b[?25hdone\n",
            "Running: /usr/bin/python3 -m AutoROM --accept-license --install-dir /root/.atari_roms\n",
            "✅ ROMs installed to: /root/.atari_roms\n"
          ]
        }
      ]
    },
    {
      "cell_type": "markdown",
      "source": [
        "# Install the Gym"
      ],
      "metadata": {
        "id": "RQyqgMFzT-qi"
      }
    },
    {
      "cell_type": "code",
      "source": [
        "import ale_py\n",
        "import gymnasium as gym"
      ],
      "metadata": {
        "id": "_W_afhrzUAnp"
      },
      "execution_count": 3,
      "outputs": []
    },
    {
      "cell_type": "markdown",
      "source": [
        "# Configure the model save drive"
      ],
      "metadata": {
        "id": "E0n7zQrALq7M"
      }
    },
    {
      "cell_type": "code",
      "source": [
        "from google.colab import drive\n",
        "drive.mount('/content/drive')"
      ],
      "metadata": {
        "id": "v8hSrWrrLibc",
        "colab": {
          "base_uri": "https://localhost:8080/"
        },
        "outputId": "64aa9199-2283-4090-ab22-63917b4d31b8"
      },
      "execution_count": 4,
      "outputs": [
        {
          "output_type": "stream",
          "name": "stdout",
          "text": [
            "Mounted at /content/drive\n"
          ]
        }
      ]
    },
    {
      "cell_type": "code",
      "source": [
        "import os\n",
        "save_dir = \"/content/drive/MyDrive/PUBLIC/Models\"\n",
        "os.makedirs(save_dir, exist_ok=True)"
      ],
      "metadata": {
        "id": "vlWPUjKfLv9y"
      },
      "execution_count": 5,
      "outputs": []
    },
    {
      "cell_type": "markdown",
      "source": [
        "# Now Model"
      ],
      "metadata": {
        "id": "SAEvyoukL1T3"
      }
    },
    {
      "cell_type": "code",
      "source": [
        "from dataclasses import dataclass\n",
        "import argparse\n",
        "import time\n",
        "from datetime import datetime\n",
        "import numpy as np\n",
        "import collections\n",
        "import typing as tt\n",
        "\n",
        "import torch\n",
        "import torch.nn as nn\n",
        "import torch.optim as optim\n",
        "\n",
        "from torch.utils.tensorboard.writer import SummaryWriter"
      ],
      "metadata": {
        "id": "VCbjkLLSxCUN"
      },
      "execution_count": 6,
      "outputs": []
    },
    {
      "cell_type": "code",
      "source": [
        "#dqn_model\n",
        "class DQN(nn.Module):\n",
        "    def __init__(self, input_shape, n_actions):\n",
        "        super(DQN, self).__init__()\n",
        "\n",
        "        self.conv = nn.Sequential(\n",
        "            nn.Conv2d(input_shape[0], 32, kernel_size=8, stride=4),\n",
        "            nn.ReLU(),\n",
        "            nn.Conv2d(32, 64, kernel_size=4, stride=2),\n",
        "            nn.ReLU(),\n",
        "            nn.Conv2d(64, 64, kernel_size=3, stride=1),\n",
        "            nn.ReLU(),\n",
        "            nn.Flatten(),\n",
        "        )\n",
        "        size = self.conv(torch.zeros(1, *input_shape)).size()[-1]\n",
        "        self.fc = nn.Sequential(\n",
        "            nn.Linear(size, 512),\n",
        "            nn.ReLU(),\n",
        "            nn.Linear(512, n_actions)\n",
        "        )\n",
        "    def forward(self, x: torch.ByteTensor):\n",
        "        x = x.float() / 255.0\n",
        "        return self.fc(self.conv(x))"
      ],
      "metadata": {
        "id": "dIJ32Rs6xJsV"
      },
      "execution_count": 7,
      "outputs": []
    },
    {
      "cell_type": "code",
      "source": [
        "# Install Stable Baselines3 for Atari wrappers\n",
        "!pip install -q stable-baselines3"
      ],
      "metadata": {
        "colab": {
          "base_uri": "https://localhost:8080/"
        },
        "id": "Uqig8gidCG8c",
        "outputId": "5c743d1a-3a92-4930-e1d5-4665c2cb338e"
      },
      "execution_count": 8,
      "outputs": [
        {
          "output_type": "stream",
          "name": "stdout",
          "text": [
            "\u001b[?25l   \u001b[90m━━━━━━━━━━━━━━━━━━━━━━━━━━━━━━━━━━━━━━━━\u001b[0m \u001b[32m0.0/187.2 kB\u001b[0m \u001b[31m?\u001b[0m eta \u001b[36m-:--:--\u001b[0m\r\u001b[2K   \u001b[90m━━━━━━━━━━━━━━━━━━━━━━━━━━━━━━━━━━━━━━━━\u001b[0m \u001b[32m187.2/187.2 kB\u001b[0m \u001b[31m10.6 MB/s\u001b[0m eta \u001b[36m0:00:00\u001b[0m\n",
            "\u001b[?25h"
          ]
        }
      ]
    },
    {
      "cell_type": "code",
      "source": [
        "from gymnasium import spaces\n",
        "from stable_baselines3.common import atari_wrappers\n",
        "import numpy as np\n",
        "import collections\n",
        "import typing as tt\n",
        "\n",
        "class ImageToPyTorch(gym.ObservationWrapper):\n",
        "    def __init__(self, env):\n",
        "        super(ImageToPyTorch, self).__init__(env)\n",
        "        obs = self.observation_space\n",
        "        assert isinstance(obs, gym.spaces.Box)\n",
        "        assert len(obs.shape) == 3\n",
        "        new_shape = (obs.shape[-1], obs.shape[0], obs.shape[1])\n",
        "        self.observation_space = gym.spaces.Box(\n",
        "            low=obs.low.min(), high=obs.high.max(),\n",
        "            shape=new_shape, dtype=obs.dtype)\n",
        "\n",
        "    def observation(self, observation):\n",
        "        return np.moveaxis(observation, 2, 0)\n",
        "\n",
        "\n",
        "class BufferWrapper(gym.ObservationWrapper):\n",
        "    def __init__(self, env, n_steps):\n",
        "        super(BufferWrapper, self).__init__(env)\n",
        "        obs = env.observation_space\n",
        "        assert isinstance(obs, spaces.Box)\n",
        "        new_obs = gym.spaces.Box(\n",
        "            obs.low.repeat(n_steps, axis=0), obs.high.repeat(n_steps, axis=0),\n",
        "            dtype=obs.dtype)\n",
        "        self.observation_space = new_obs\n",
        "        self.buffer = collections.deque(maxlen=n_steps)\n",
        "\n",
        "    def reset(self, *, seed: tt.Optional[int] = None, options: tt.Optional[dict[str, tt.Any]] = None):\n",
        "        for _ in range(self.buffer.maxlen):\n",
        "            self.buffer.append(np.zeros_like(self.env.observation_space.low))\n",
        "        obs, extra = self.env.reset(seed=seed, options=options)\n",
        "        return self.observation(obs), extra\n",
        "\n",
        "    def observation(self, observation: np.ndarray) -> np.ndarray:\n",
        "        self.buffer.append(observation)\n",
        "        return np.concatenate(self.buffer)\n",
        "\n",
        "\n",
        "class FireResetEnv:\n",
        "    def __init__(self, env):\n",
        "        self.env = env\n",
        "        self.action_space = env.action_space\n",
        "        self.observation_space = env.observation_space\n",
        "\n",
        "    def reset(self, **kwargs):\n",
        "        obs, info = self.env.reset(**kwargs)\n",
        "        try:\n",
        "            obs, _, term, trunc, info = self.env.step(1)\n",
        "            if term or trunc:\n",
        "                obs, info = self.env.reset(**kwargs)\n",
        "        except Exception:\n",
        "            pass\n",
        "        return obs, info\n",
        "\n",
        "    def step(self, a):\n",
        "        return self.env.step(a)\n",
        "\n",
        "    def __getattr__(self, name):\n",
        "        return getattr(self.env, name)\n",
        "\n",
        "\n",
        "def make_env(env_name: str, n_steps=4, render_mode=None, **kwargs):\n",
        "    print(f\"Creating environment {env_name}\")\n",
        "    env = gym.make(env_name, render_mode=render_mode, **kwargs)\n",
        "    env = atari_wrappers.AtariWrapper(env, clip_reward=True, noop_max=30)\n",
        "    env = ImageToPyTorch(env)\n",
        "    env = BufferWrapper(env, n_steps=n_steps)\n",
        "    env = FireResetEnv(env)\n",
        "    return env"
      ],
      "metadata": {
        "id": "Vk2CtGcOBcQo",
        "colab": {
          "base_uri": "https://localhost:8080/"
        },
        "outputId": "9dc43b42-2fa2-4213-ecfa-f23fcaec4fcc"
      },
      "execution_count": 9,
      "outputs": [
        {
          "output_type": "stream",
          "name": "stderr",
          "text": [
            "Gym has been unmaintained since 2022 and does not support NumPy 2.0 amongst other critical functionality.\n",
            "Please upgrade to Gymnasium, the maintained drop-in replacement of Gym, or contact the authors of your software and request that they upgrade.\n",
            "See the migration guide at https://gymnasium.farama.org/introduction/migration_guide/ for additional information.\n",
            "/usr/local/lib/python3.12/dist-packages/jupyter_client/session.py:203: DeprecationWarning: datetime.datetime.utcnow() is deprecated and scheduled for removal in a future version. Use timezone-aware objects to represent datetimes in UTC: datetime.datetime.now(datetime.UTC).\n",
            "  return datetime.utcnow().replace(tzinfo=utc)\n"
          ]
        }
      ]
    },
    {
      "cell_type": "code",
      "source": [
        "# Base Configuration\n",
        "DEFAULT_ENV_NAME = \"ALE/Seaquest-v5\"\n",
        "MEAN_REWARD_BOUND = 19\n",
        "\n",
        "GAMMA = 0.99\n",
        "BATCH_SIZE = 32\n",
        "REPLAY_SIZE = 10000\n",
        "LEARNING_RATE = 1e-4\n",
        "SYNC_TARGET_FRAMES = 1000\n",
        "REPLAY_START_SIZE = 10000\n",
        "\n",
        "SAVE_EPSILON = 0.5  # Only save if at least this much better\n",
        "EPSILON_DECAY_LAST_FRAME = 150000\n",
        "EPSILON_START = 1.0\n",
        "EPSILON_FINAL = 0.01\n",
        "\n",
        "# Tuple of tensors returned from a sampled minibatch in replay buffer\n",
        "State = np.ndarray\n",
        "Action = int\n",
        "BatchTensors = tt.Tuple[\n",
        "    torch.ByteTensor,           # current state\n",
        "    torch.LongTensor,           # actions\n",
        "    torch.Tensor,               # rewards\n",
        "    torch.BoolTensor,           # done || trunc\n",
        "    torch.ByteTensor            # next state\n",
        "]"
      ],
      "metadata": {
        "id": "GvXPdjPCBxOd"
      },
      "execution_count": 10,
      "outputs": []
    },
    {
      "cell_type": "code",
      "source": [
        "# ⚙️ Fast Training Config for Quick Test Run\n",
        "MEAN_REWARD_BOUND = 5\n",
        "REPLAY_START_SIZE = 1000\n",
        "EPSILON_DECAY_LAST_FRAME = 10_000\n",
        "SYNC_TARGET_FRAMES = 500\n",
        "\n",
        "# REPLAY_SIZE = 5000  # optional\n",
        "# BATCH_SIZE = 16     # optional"
      ],
      "metadata": {
        "id": "3FHvHNMrR9Sk"
      },
      "execution_count": 11,
      "outputs": []
    },
    {
      "cell_type": "code",
      "source": [
        "import os\n",
        "from pathlib import Path\n",
        "\n",
        "# Define directories\n",
        "save_dir_drive = \"/content/drive/MyDrive/PUBLIC/Models\"\n",
        "save_dir_local = \"saved_models\"\n",
        "\n",
        "# Create both directories if they don't exist\n",
        "os.makedirs(save_dir_drive, exist_ok=True)\n",
        "os.makedirs(save_dir_local, exist_ok=True)\n",
        "\n",
        "# Safe model filename\n",
        "env_name = DEFAULT_ENV_NAME\n",
        "safe_env_name = env_name.replace(\"/\", \"_\")"
      ],
      "metadata": {
        "id": "MkILCuT2OhBV"
      },
      "execution_count": 12,
      "outputs": []
    },
    {
      "cell_type": "code",
      "source": [
        "@dataclass\n",
        "class Experience:\n",
        "    state: State\n",
        "    action: Action\n",
        "    reward: float\n",
        "    done_trunc: bool\n",
        "    new_state: State\n",
        "\n",
        "\n",
        "class ExperienceBuffer:\n",
        "    def __init__(self, capacity: int):\n",
        "        self.buffer = collections.deque(maxlen=capacity)\n",
        "\n",
        "    def __len__(self):\n",
        "        return len(self.buffer)\n",
        "\n",
        "    def append(self, experience: Experience):\n",
        "        self.buffer.append(experience)\n",
        "\n",
        "    def sample(self, batch_size: int) -> tt.List[Experience]:\n",
        "        indices = np.random.choice(len(self), batch_size, replace=False)\n",
        "        return [self.buffer[idx] for idx in indices]"
      ],
      "metadata": {
        "id": "uW4Bo-mcB6rc"
      },
      "execution_count": 13,
      "outputs": []
    },
    {
      "cell_type": "code",
      "source": [
        "class Agent:\n",
        "    def __init__(self, env: gym.Env, exp_buffer: ExperienceBuffer):\n",
        "        self.env = env\n",
        "        self.exp_buffer = exp_buffer\n",
        "        self.state: tt.Optional[np.ndarray] = None\n",
        "        self._reset()\n",
        "\n",
        "    def _reset(self):\n",
        "        self.state, _ = self.env.reset()\n",
        "        self.total_reward = 0.0\n",
        "\n",
        "    @torch.no_grad()\n",
        "    def play_step(self, net: DQN, device: torch.device,\n",
        "                  epsilon: float = 0.0) -> tt.Optional[float]:\n",
        "        done_reward = None\n",
        "\n",
        "        if np.random.random() < epsilon:\n",
        "            action = self.env.action_space.sample()  # ← fixed\n",
        "        else:\n",
        "            state_v = torch.as_tensor(self.state, device=device).unsqueeze(0)\n",
        "            q_vals_v = net(state_v)\n",
        "            _, act_v = torch.max(q_vals_v, dim=1)\n",
        "            action = int(act_v.item())\n",
        "\n",
        "        # do step in the environment\n",
        "        new_state, reward, is_done, is_tr, _ = self.env.step(action)\n",
        "        self.total_reward += reward\n",
        "\n",
        "        exp = Experience(\n",
        "            state=self.state, action=action, reward=float(reward),\n",
        "            done_trunc=is_done or is_tr, new_state=new_state\n",
        "        )\n",
        "        self.exp_buffer.append(exp)\n",
        "        self.state = new_state\n",
        "\n",
        "        if is_done or is_tr:\n",
        "            done_reward = self.total_reward\n",
        "            self._reset()\n",
        "\n",
        "        return done_reward"
      ],
      "metadata": {
        "id": "irJb4V32B-R8"
      },
      "execution_count": 14,
      "outputs": []
    },
    {
      "cell_type": "code",
      "source": [
        "def batch_to_tensors(batch: tt.List[Experience], device: torch.device) -> BatchTensors:\n",
        "    states, actions, rewards, dones, new_state = [], [], [], [], []\n",
        "    for e in batch:\n",
        "        states.append(e.state)\n",
        "        actions.append(e.action)\n",
        "        rewards.append(e.reward)\n",
        "        dones.append(e.done_trunc)\n",
        "        new_state.append(e.new_state)\n",
        "    states_t = torch.as_tensor(np.asarray(states))\n",
        "    actions_t = torch.LongTensor(actions)\n",
        "    rewards_t = torch.FloatTensor(rewards)\n",
        "    dones_t = torch.BoolTensor(dones)\n",
        "    new_states_t = torch.as_tensor(np.asarray(new_state))\n",
        "    return states_t.to(device), actions_t.to(device), rewards_t.to(device), \\\n",
        "           dones_t.to(device),  new_states_t.to(device)"
      ],
      "metadata": {
        "id": "vHXmNr_wCBJm"
      },
      "execution_count": 15,
      "outputs": []
    },
    {
      "cell_type": "code",
      "source": [
        "def calc_loss(batch: tt.List[Experience], net: DQN, tgt_net: DQN,\n",
        "              device: torch.device) -> torch.Tensor:\n",
        "    states_t, actions_t, rewards_t, dones_t, new_states_t = batch_to_tensors(batch, device)\n",
        "\n",
        "    state_action_values = net(states_t).gather(\n",
        "        1, actions_t.unsqueeze(-1)\n",
        "    ).squeeze(-1)\n",
        "    with torch.no_grad():\n",
        "        next_state_values = tgt_net(new_states_t).max(1)[0]\n",
        "        next_state_values[dones_t] = 0.0\n",
        "        next_state_values = next_state_values.detach()\n",
        "\n",
        "    expected_state_action_values = next_state_values * GAMMA + rewards_t\n",
        "    return nn.MSELoss()(state_action_values, expected_state_action_values)"
      ],
      "metadata": {
        "id": "-dbh0431CEXO"
      },
      "execution_count": 16,
      "outputs": []
    },
    {
      "cell_type": "code",
      "source": [
        "model_comment = f\"test_epsdec{EPSILON_DECAY_LAST_FRAME}_rs{REPLAY_START_SIZE}_sync{SYNC_TARGET_FRAMES}\"\n",
        "device = torch.device(\"cuda\" if torch.cuda.is_available() else \"cpu\")\n",
        "\n",
        "# keep runs short so you can record “early vs later” clips\n",
        "TRAIN_MAX_FRAMES = 150_000  # adjust 50k–200k depending on time\n",
        "\n",
        "env = make_env(env_name)  # env_name already comes from DEFAULT_ENV_NAME (now Breakout)\n",
        "net = DQN(env.observation_space.shape, env.action_space.n).to(device)\n",
        "tgt_net = DQN(env.observation_space.shape, env.action_space.n).to(device)\n",
        "writer = SummaryWriter(comment=f\"-{safe_env_name}-{model_comment}\")\n",
        "print(net)\n",
        "\n",
        "buffer = ExperienceBuffer(REPLAY_SIZE)\n",
        "agent = Agent(env, buffer)\n",
        "epsilon = EPSILON_START\n",
        "\n",
        "optimizer = optim.Adam(net.parameters(), lr=LEARNING_RATE)\n",
        "total_rewards = []\n",
        "frame_idx = 0\n",
        "ts_frame = 0\n",
        "ts = time.time()\n",
        "best_m_reward = None\n",
        "\n",
        "start_time = time.time()\n",
        "while True:\n",
        "    frame_idx += 1\n",
        "    epsilon = max(EPSILON_FINAL, EPSILON_START - frame_idx / EPSILON_DECAY_LAST_FRAME)\n",
        "\n",
        "    reward = agent.play_step(net, device, epsilon)\n",
        "    if reward is not None:\n",
        "        total_rewards.append(reward)\n",
        "        speed = (frame_idx - ts_frame) / (time.time() - ts)\n",
        "        elapsed = time.time() - start_time  # in seconds\n",
        "        ts_frame = frame_idx\n",
        "        ts = time.time()\n",
        "        m_reward = np.mean(total_rewards[-100:]) if total_rewards else 0.0\n",
        "\n",
        "        writer.add_scalar(\"epsilon\", epsilon, frame_idx)\n",
        "        writer.add_scalar(\"speed\", speed, frame_idx)\n",
        "        writer.add_scalar(\"reward_100\", m_reward, frame_idx)\n",
        "        writer.add_scalar(\"reward\", reward, frame_idx)\n",
        "\n",
        "        if best_m_reward is None or m_reward > best_m_reward + SAVE_EPSILON:\n",
        "            print(f\"{frame_idx}: done {len(total_rewards)} games, reward {m_reward:.3f}, \"\n",
        "                  f\"eps {epsilon:.2f}, speed {speed:.2f} f/s, time {elapsed/60:.1f} min\")\n",
        "            timestamp = datetime.now().strftime(\"%Y%m%d-%H%M\")\n",
        "            model_filename = f\"{safe_env_name}-best_{int(m_reward)}-{timestamp}-{model_comment}.dat\"\n",
        "\n",
        "            # Save to both paths\n",
        "            model_path_drive = os.path.join(save_dir_drive, model_filename)\n",
        "            model_path_local = os.path.join(save_dir_local, model_filename)\n",
        "            torch.save(net.state_dict(), model_path_drive)\n",
        "            torch.save(net.state_dict(), model_path_local)\n",
        "\n",
        "            print(f\"💾 Model saved to:\\n - Google Drive: {model_path_drive}\\n - Local:        {model_path_local}\")\n",
        "            if best_m_reward is not None:\n",
        "                print(f\"Best reward updated {best_m_reward:.3f} -> {m_reward:.3f}\")\n",
        "            best_m_reward = m_reward\n",
        "\n",
        "        if m_reward > MEAN_REWARD_BOUND:\n",
        "            print(\"Solved in %d frames!\" % frame_idx)\n",
        "            break\n",
        "\n",
        "    if len(buffer) < REPLAY_START_SIZE:\n",
        "        if frame_idx >= TRAIN_MAX_FRAMES:\n",
        "            print(f\"Stopping at TRAIN_MAX_FRAMES={TRAIN_MAX_FRAMES} (buffer filling).\")\n",
        "            break\n",
        "        continue\n",
        "\n",
        "    if frame_idx % SYNC_TARGET_FRAMES == 0:\n",
        "        tgt_net.load_state_dict(net.state_dict())\n",
        "\n",
        "    optimizer.zero_grad()\n",
        "    batch = buffer.sample(BATCH_SIZE)\n",
        "    loss_t = calc_loss(batch, net, tgt_net, device)\n",
        "    loss_t.backward()\n",
        "    optimizer.step()\n",
        "\n",
        "    if frame_idx >= TRAIN_MAX_FRAMES:\n",
        "        print(f\"Reached TRAIN_MAX_FRAMES={TRAIN_MAX_FRAMES}.\")\n",
        "        break\n",
        "\n",
        "env.close()\n",
        "writer.close()"
      ],
      "metadata": {
        "colab": {
          "base_uri": "https://localhost:8080/"
        },
        "id": "Q8gj-5woCXEB",
        "outputId": "8727324e-426d-40a3-dfda-87636c7475ca"
      },
      "execution_count": 17,
      "outputs": [
        {
          "output_type": "stream",
          "name": "stdout",
          "text": [
            "Creating environment ALE/Seaquest-v5\n",
            "DQN(\n",
            "  (conv): Sequential(\n",
            "    (0): Conv2d(4, 32, kernel_size=(8, 8), stride=(4, 4))\n",
            "    (1): ReLU()\n",
            "    (2): Conv2d(32, 64, kernel_size=(4, 4), stride=(2, 2))\n",
            "    (3): ReLU()\n",
            "    (4): Conv2d(64, 64, kernel_size=(3, 3), stride=(1, 1))\n",
            "    (5): ReLU()\n",
            "    (6): Flatten(start_dim=1, end_dim=-1)\n",
            "  )\n",
            "  (fc): Sequential(\n",
            "    (0): Linear(in_features=3136, out_features=512, bias=True)\n",
            "    (1): ReLU()\n",
            "    (2): Linear(in_features=512, out_features=18, bias=True)\n",
            "  )\n",
            ")\n",
            "31: done 1 games, reward 2.000, eps 1.00, speed 354.56 f/s, time 0.0 min\n",
            "💾 Model saved to:\n",
            " - Google Drive: /content/drive/MyDrive/PUBLIC/Models/ALE_Seaquest-v5-best_2-20250929-0045-test_epsdec10000_rs1000_sync500.dat\n",
            " - Local:        saved_models/ALE_Seaquest-v5-best_2-20250929-0045-test_epsdec10000_rs1000_sync500.dat\n"
          ]
        },
        {
          "output_type": "stream",
          "name": "stderr",
          "text": [
            "/usr/local/lib/python3.12/dist-packages/jupyter_client/session.py:203: DeprecationWarning: datetime.datetime.utcnow() is deprecated and scheduled for removal in a future version. Use timezone-aware objects to represent datetimes in UTC: datetime.datetime.now(datetime.UTC).\n",
            "  return datetime.utcnow().replace(tzinfo=utc)\n"
          ]
        },
        {
          "output_type": "stream",
          "name": "stdout",
          "text": [
            "8538: done 265 games, reward 2.520, eps 0.15, speed 97.91 f/s, time 1.1 min\n",
            "💾 Model saved to:\n",
            " - Google Drive: /content/drive/MyDrive/PUBLIC/Models/ALE_Seaquest-v5-best_2-20250929-0047-test_epsdec10000_rs1000_sync500.dat\n",
            " - Local:        saved_models/ALE_Seaquest-v5-best_2-20250929-0047-test_epsdec10000_rs1000_sync500.dat\n",
            "Best reward updated 2.000 -> 2.520\n",
            "15746: done 416 games, reward 3.030, eps 0.01, speed 122.52 f/s, time 2.1 min\n",
            "💾 Model saved to:\n",
            " - Google Drive: /content/drive/MyDrive/PUBLIC/Models/ALE_Seaquest-v5-best_3-20250929-0048-test_epsdec10000_rs1000_sync500.dat\n",
            " - Local:        saved_models/ALE_Seaquest-v5-best_3-20250929-0048-test_epsdec10000_rs1000_sync500.dat\n",
            "Best reward updated 2.520 -> 3.030\n",
            "25953: done 609 games, reward 3.570, eps 0.01, speed 128.90 f/s, time 3.6 min\n",
            "💾 Model saved to:\n",
            " - Google Drive: /content/drive/MyDrive/PUBLIC/Models/ALE_Seaquest-v5-best_3-20250929-0049-test_epsdec10000_rs1000_sync500.dat\n",
            " - Local:        saved_models/ALE_Seaquest-v5-best_3-20250929-0049-test_epsdec10000_rs1000_sync500.dat\n",
            "Best reward updated 3.030 -> 3.570\n",
            "54262: done 1059 games, reward 4.090, eps 0.01, speed 95.61 f/s, time 7.6 min\n",
            "💾 Model saved to:\n",
            " - Google Drive: /content/drive/MyDrive/PUBLIC/Models/ALE_Seaquest-v5-best_4-20250929-0053-test_epsdec10000_rs1000_sync500.dat\n",
            " - Local:        saved_models/ALE_Seaquest-v5-best_4-20250929-0053-test_epsdec10000_rs1000_sync500.dat\n",
            "Best reward updated 3.570 -> 4.090\n",
            "59612: done 1130 games, reward 4.620, eps 0.01, speed 125.86 f/s, time 8.4 min\n",
            "💾 Model saved to:\n",
            " - Google Drive: /content/drive/MyDrive/PUBLIC/Models/ALE_Seaquest-v5-best_4-20250929-0054-test_epsdec10000_rs1000_sync500.dat\n",
            " - Local:        saved_models/ALE_Seaquest-v5-best_4-20250929-0054-test_epsdec10000_rs1000_sync500.dat\n",
            "Best reward updated 4.090 -> 4.620\n",
            "Solved in 97923 frames!\n"
          ]
        }
      ]
    },
    {
      "cell_type": "code",
      "source": [
        "# Recorder Helper\n",
        "\n",
        "import imageio.v2 as imageio\n",
        "import numpy as np, torch\n",
        "\n",
        "def record_clip(env_id, policy_net, eps=1.0, target_seconds=12, save_fps=15,\n",
        "                slow_factor=2, out_path=\"video.mp4\", seed=0, max_episodes=6):\n",
        "    \"\"\"\n",
        "    save_fps: frames per second in the output video (lower = slower playback)\n",
        "    slow_factor: duplicate each rendered frame this many times (bigger = slower)\n",
        "    \"\"\"\n",
        "    target_frames = int(target_seconds * save_fps)\n",
        "    frames = []\n",
        "    env = make_env(env_id, n_steps=4, render_mode=\"rgb_array\")\n",
        "    dev = next(policy_net.parameters()).device\n",
        "    rng = np.random.RandomState(seed)\n",
        "\n",
        "    episodes = 0\n",
        "    while len(frames) < target_frames and episodes < max_episodes:\n",
        "        s, _ = env.reset(seed=int(rng.randint(0, 1_000_000)))\n",
        "        done = trunc = False\n",
        "        while not (done or trunc) and len(frames) < target_frames:\n",
        "            if rng.rand() < eps:\n",
        "                a = env.action_space.sample()\n",
        "            else:\n",
        "                with torch.no_grad():\n",
        "                    sv = torch.as_tensor(s, device=dev).unsqueeze(0)\n",
        "                    q = policy_net(sv)\n",
        "                    a = int(torch.argmax(q, dim=1).item())\n",
        "            ns, r, done, trunc, _ = env.step(a)\n",
        "            frame = env.render()\n",
        "            # duplicate frames to slow apparent motion\n",
        "            frames.extend([frame] * slow_factor)\n",
        "            s = ns\n",
        "        episodes += 1\n",
        "\n",
        "    if not frames:\n",
        "        raise RuntimeError(\"No frames recorded.\")\n",
        "    # trim/pad to exact length\n",
        "    frames = frames[:target_frames] if len(frames) >= target_frames else frames + [frames[-1]]*(target_frames-len(frames))\n",
        "    imageio.mimsave(out_path, frames, fps=save_fps)\n",
        "    env.close()\n",
        "    print(f\"Saved {out_path} — {len(frames)/save_fps:.1f}s at {save_fps} fps (slow_factor={slow_factor})\")"
      ],
      "metadata": {
        "id": "DBi2gjDKkRCM"
      },
      "execution_count": 18,
      "outputs": []
    },
    {
      "cell_type": "code",
      "source": [
        "# Make the videos\n",
        "\n",
        "# Early: fresh net, random-ish, slowed\n",
        "tmp_env = make_env(DEFAULT_ENV_NAME, render_mode=\"rgb_array\")\n",
        "tmp_net = DQN(tmp_env.observation_space.shape, tmp_env.action_space.n).to(next(net.parameters()).device)\n",
        "tmp_env.close()\n",
        "\n",
        "import os\n",
        "os.makedirs(\"videos\", exist_ok=True)\n",
        "\n",
        "record_clip(DEFAULT_ENV_NAME, tmp_net, eps=1.0,  target_seconds=12, save_fps=15, slow_factor=2,\n",
        "            out_path=\"videos/early_seaquest.mp4\", seed=0)\n",
        "\n",
        "# Later: your trained net, greedy-ish, slowed\n",
        "record_clip(DEFAULT_ENV_NAME, net,     eps=0.01, target_seconds=12, save_fps=15, slow_factor=2,\n",
        "            out_path=\"videos/later_seaquest.mp4\", seed=1)"
      ],
      "metadata": {
        "colab": {
          "base_uri": "https://localhost:8080/"
        },
        "id": "WeE7um46kX1z",
        "outputId": "70f45746-421b-4ea1-a229-aa4ba51ab135"
      },
      "execution_count": 20,
      "outputs": [
        {
          "output_type": "stream",
          "name": "stdout",
          "text": [
            "Creating environment ALE/Seaquest-v5\n",
            "Creating environment ALE/Seaquest-v5\n"
          ]
        },
        {
          "output_type": "stream",
          "name": "stderr",
          "text": [
            "WARNING:imageio_ffmpeg:IMAGEIO FFMPEG_WRITER WARNING: input image is not divisible by macro_block_size=16, resizing from (160, 210) to (160, 224) to ensure video compatibility with most codecs and players. To prevent resizing, make your input image divisible by the macro_block_size or set the macro_block_size to 1 (risking incompatibility).\n"
          ]
        },
        {
          "output_type": "stream",
          "name": "stdout",
          "text": [
            "Saved videos/early_seaquest.mp4 — 12.0s at 15 fps (slow_factor=2)\n",
            "Creating environment ALE/Seaquest-v5\n"
          ]
        },
        {
          "output_type": "stream",
          "name": "stderr",
          "text": [
            "WARNING:imageio_ffmpeg:IMAGEIO FFMPEG_WRITER WARNING: input image is not divisible by macro_block_size=16, resizing from (160, 210) to (160, 224) to ensure video compatibility with most codecs and players. To prevent resizing, make your input image divisible by the macro_block_size or set the macro_block_size to 1 (risking incompatibility).\n"
          ]
        },
        {
          "output_type": "stream",
          "name": "stdout",
          "text": [
            "Saved videos/later_seaquest.mp4 — 12.0s at 15 fps (slow_factor=2)\n"
          ]
        }
      ]
    },
    {
      "cell_type": "code",
      "source": [
        "# Cell C — Preview videos directly in Colab\n",
        "from IPython.display import Video, display\n",
        "\n",
        "display(Video(\"videos/early_seaquest.mp4\", embed=True, width=480))\n",
        "display(Video(\"videos/later_seaquest.mp4\", embed=True, width=480))"
      ],
      "metadata": {
        "colab": {
          "base_uri": "https://localhost:8080/",
          "height": 1000
        },
        "id": "TWlLGzhyV3x0",
        "outputId": "b5664203-226b-411f-f030-d16690ad239c"
      },
      "execution_count": 21,
      "outputs": [
        {
          "output_type": "display_data",
          "data": {
            "text/plain": [
              "<IPython.core.display.Video object>"
            ],
            "text/html": [
              "<video controls  width=\"480\" >\n",
              " <source src=\"data:video/mp4;base64,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\" type=\"video/mp4\">\n",
              " Your browser does not support the video tag.\n",
              " </video>"
            ]
          },
          "metadata": {}
        },
        {
          "output_type": "display_data",
          "data": {
            "text/plain": [
              "<IPython.core.display.Video object>"
            ],
            "text/html": [
              "<video controls  width=\"480\" >\n",
              " <source src=\"data:video/mp4;base64,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\" type=\"video/mp4\">\n",
              " Your browser does not support the video tag.\n",
              " </video>"
            ]
          },
          "metadata": {}
        }
      ]
    }
  ]
}